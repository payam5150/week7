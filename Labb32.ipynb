{
 "cells": [
  {
   "cell_type": "code",
   "execution_count": 1,
   "metadata": {},
   "outputs": [
    {
     "name": "stdout",
     "output_type": "stream",
     "text": [
      "163\n"
     ]
    }
   ],
   "source": [
    "# set-up vacation_days variable\n",
    "vacation_days = 60\n",
    "\n",
    "# add 1 to vacation_days and rewrite itself\n",
    "vacation_days = vacation_days + 6\n",
    "vacation_days = vacation_days + 5\n",
    "vacation_days = vacation_days + 4\n",
    "vacation_days = vacation_days + 88\n",
    "\n",
    "# print how many vacation days there are\n",
    "print(vacation_days)"
   ]
  },
  {
   "cell_type": "code",
   "execution_count": 2,
   "metadata": {},
   "outputs": [
    {
     "name": "stdout",
     "output_type": "stream",
     "text": [
      "25\n"
     ]
    }
   ],
   "source": [
    "# reset variable to 0\n",
    "vacation_days = 12\n",
    "\n",
    "# this does the same as above\n",
    "vacation_days += 5\n",
    "vacation_days += 8\n",
    "\n",
    "# print how many vacation days there are\n",
    "print(vacation_days)"
   ]
  },
  {
   "cell_type": "code",
   "execution_count": 5,
   "metadata": {},
   "outputs": [
    {
     "name": "stdout",
     "output_type": "stream",
     "text": [
      "vacation_days =  7\n",
      "we incremented vacation days\n"
     ]
    }
   ],
   "source": [
    "vacation_days = 6\n",
    "goals_met = True\n",
    "if goals_met:\n",
    "    vacation_days += 1\n",
    "    print(\"vacation_days = \", vacation_days)\n",
    "    print(\"we incremented vacation days\")\n",
    "# if block ends"
   ]
  },
  {
   "cell_type": "code",
   "execution_count": null,
   "metadata": {},
   "outputs": [],
   "source": []
  }
 ],
 "metadata": {
  "kernelspec": {
   "display_name": "Python 3",
   "language": "python",
   "name": "python3"
  },
  "language_info": {
   "codemirror_mode": {
    "name": "ipython",
    "version": 3
   },
   "file_extension": ".py",
   "mimetype": "text/x-python",
   "name": "python",
   "nbconvert_exporter": "python",
   "pygments_lexer": "ipython3",
   "version": "3.7.4"
  }
 },
 "nbformat": 4,
 "nbformat_minor": 2
}
