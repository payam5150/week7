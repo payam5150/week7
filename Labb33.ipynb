{
 "cells": [
  {
   "cell_type": "code",
   "execution_count": 1,
   "metadata": {},
   "outputs": [
    {
     "name": "stdout",
     "output_type": "stream",
     "text": [
      "36\n"
     ]
    }
   ],
   "source": [
    "\n",
    "vacation_days = 40\n",
    "\n",
    "vacation_days = vacation_days + 1\n",
    "vacation_days = vacation_days + 1\n",
    "vacation_days = vacation_days + 15\n",
    "vacation_days = vacation_days - 21\n",
    "\n",
    "# print how many vacation days there are\n",
    "print(vacation_days)"
   ]
  },
  {
   "cell_type": "code",
   "execution_count": 2,
   "metadata": {},
   "outputs": [
    {
     "name": "stdout",
     "output_type": "stream",
     "text": [
      "15\n"
     ]
    }
   ],
   "source": [
    "# reset variable to 0\n",
    "vacation_days = 6\n",
    "\n",
    "# this does the same as above\n",
    "vacation_days += 5\n",
    "vacation_days += 4\n",
    "\n",
    "# print how many vacation days there are\n",
    "print(vacation_days)"
   ]
  },
  {
   "cell_type": "code",
   "execution_count": null,
   "metadata": {},
   "outputs": [],
   "source": []
  }
 ],
 "metadata": {
  "kernelspec": {
   "display_name": "Python 3",
   "language": "python",
   "name": "python3"
  },
  "language_info": {
   "codemirror_mode": {
    "name": "ipython",
    "version": 3
   },
   "file_extension": ".py",
   "mimetype": "text/x-python",
   "name": "python",
   "nbconvert_exporter": "python",
   "pygments_lexer": "ipython3",
   "version": "3.7.4"
  }
 },
 "nbformat": 4,
 "nbformat_minor": 2
}
