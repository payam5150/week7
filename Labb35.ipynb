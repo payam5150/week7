{
 "cells": [
  {
   "cell_type": "code",
   "execution_count": 3,
   "metadata": {},
   "outputs": [
    {
     "name": "stdout",
     "output_type": "stream",
     "text": [
      "6\n"
     ]
    }
   ],
   "source": [
    "vacation_days = 10\n",
    "\n",
    "# add 1 to vacation_days and rewrite itself\n",
    "vacation_days = vacation_days + 1\n",
    "vacation_days = vacation_days + 1\n",
    "vacation_days = vacation_days + 15\n",
    "vacation_days = vacation_days - 21\n",
    "\n",
    "# print how many vacation days there are\n",
    "print(vacation_days)"
   ]
  },
  {
   "cell_type": "code",
   "execution_count": 4,
   "metadata": {},
   "outputs": [
    {
     "name": "stdout",
     "output_type": "stream",
     "text": [
      "8\n"
     ]
    }
   ],
   "source": [
    "# reset variable to 0\n",
    "vacation_days = 6\n",
    "\n",
    "# this does the same as above\n",
    "vacation_days += 1\n",
    "vacation_days += 1\n",
    "\n",
    "# print how many vacation days there are\n",
    "print(vacation_days)"
   ]
  },
  {
   "cell_type": "code",
   "execution_count": 5,
   "metadata": {},
   "outputs": [
    {
     "name": "stdout",
     "output_type": "stream",
     "text": [
      "vacation_days =  7\n",
      "we incremented vacation days\n"
     ]
    }
   ],
   "source": [
    "vacation_days = 6\n",
    "goals_met = True\n",
    "if goals_met:\n",
    "    vacation_days += 1\n",
    "    print(\"vacation_days = \", vacation_days)\n",
    "    print(\"we incremented vacation days\")\n",
    "# if block ends"
   ]
  },
  {
   "cell_type": "code",
   "execution_count": null,
   "metadata": {},
   "outputs": [],
   "source": []
  }
 ],
 "metadata": {
  "kernelspec": {
   "display_name": "Python 3",
   "language": "python",
   "name": "python3"
  },
  "language_info": {
   "codemirror_mode": {
    "name": "ipython",
    "version": 3
   },
   "file_extension": ".py",
   "mimetype": "text/x-python",
   "name": "python",
   "nbconvert_exporter": "python",
   "pygments_lexer": "ipython3",
   "version": "3.7.4"
  }
 },
 "nbformat": 4,
 "nbformat_minor": 2
}
